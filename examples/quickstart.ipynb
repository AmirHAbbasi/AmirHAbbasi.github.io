{
  "cells": [
    {
      "cell_type": "markdown",
      "metadata": {
        "id": "view-in-github",
        "colab_type": "text"
      },
      "source": [
        "<a href=\"https://colab.research.google.com/github/AmirHAbbasi/AmirHAbbasi.github.io/blob/main/examples/quickstart.ipynb\" target=\"_parent\"><img src=\"https://colab.research.google.com/assets/colab-badge.svg\" alt=\"Open In Colab\"/></a>"
      ]
    },
    {
      "cell_type": "code",
      "execution_count": 5,
      "id": "hDnIEHOKB8LD",
      "metadata": {
        "id": "hDnIEHOKB8LD"
      },
      "outputs": [],
      "source": [
        "!pip install snntorch --quiet"
      ]
    },
    {
      "cell_type": "code",
      "execution_count": 6,
      "id": "WL487gZW1Agy",
      "metadata": {
        "id": "WL487gZW1Agy"
      },
      "outputs": [],
      "source": [
        "import torch, torch.nn as nn\n",
        "import snntorch as snn"
      ]
    },
    {
      "cell_type": "markdown",
      "id": "EYf13Gtx1OCj",
      "metadata": {
        "id": "EYf13Gtx1OCj"
      },
      "source": [
        "## DataLoading\n",
        "Define variables for dataloading."
      ]
    },
    {
      "cell_type": "code",
      "execution_count": 7,
      "id": "eo4T5MC21hgD",
      "metadata": {
        "id": "eo4T5MC21hgD"
      },
      "outputs": [],
      "source": [
        "batch_size = 128\n",
        "data_path='/tmp/data/mnist'\n",
        "device = torch.device(\"cuda\") if torch.cuda.is_available() else torch.device(\"cpu\")"
      ]
    },
    {
      "cell_type": "markdown",
      "id": "myFKqNx11qYS",
      "metadata": {
        "id": "myFKqNx11qYS"
      },
      "source": [
        "Load MNIST dataset."
      ]
    },
    {
      "cell_type": "code",
      "execution_count": 8,
      "id": "3GdglZjK04cb",
      "metadata": {
        "id": "3GdglZjK04cb"
      },
      "outputs": [],
      "source": [
        "from torch.utils.data import DataLoader\n",
        "from torchvision import datasets, transforms\n",
        "\n",
        "# Define a transform\n",
        "transform = transforms.Compose([\n",
        "            transforms.Resize((28, 28)),\n",
        "            transforms.Grayscale(),\n",
        "            transforms.ToTensor(),\n",
        "            transforms.Normalize((0,), (1,))])\n",
        "\n",
        "mnist_train = datasets.MNIST(data_path, train=True, download=True, transform=transform)\n",
        "mnist_test = datasets.MNIST(data_path, train=False, download=True, transform=transform)\n",
        "\n",
        "# Create DataLoaders\n",
        "train_loader = DataLoader(mnist_train, batch_size=batch_size, shuffle=True)\n",
        "test_loader = DataLoader(mnist_test, batch_size=batch_size, shuffle=True)"
      ]
    },
    {
      "cell_type": "code",
      "execution_count": 9,
      "id": "JM2thnrc10rD",
      "metadata": {
        "id": "JM2thnrc10rD"
      },
      "outputs": [],
      "source": [
        "from snntorch import surrogate\n",
        "\n",
        "beta = 0.9  # neuron decay rate\n",
        "spike_grad = surrogate.fast_sigmoid() # fast sigmoid surrogate gradient\n",
        "\n",
        "\n",
        "'''\n",
        "#  Initialize Convolutional SNN\n",
        "net = nn.Sequential(nn.Conv2d(1, 8, 5), # Input: 1 channel (grayscale), Output: 8 feature maps, Kernel: 5×5\n",
        "                    nn.MaxPool2d(2), # 2×2 max pooling\n",
        "\n",
        "                    snn.Leaky(beta=beta, spike_grad=spike_grad, init_hidden=True),\n",
        "                    #Input: 8 channels, Output: 16 feature maps, Kernel: 5×5\n",
        "                    nn.Conv2d(8, 16, 5),\n",
        "                    nn.MaxPool2d(2),\n",
        "                    snn.Leaky(beta=beta, spike_grad=spike_grad, init_hidden=True),\n",
        "                    nn.Flatten(),\n",
        "                    #fully connected\n",
        "                    nn.Linear(16*4*4, 10),\n",
        "                    snn.Leaky(beta=beta, spike_grad=spike_grad, init_hidden=True, output=True)\n",
        "                    ).to(device)\n",
        "'''\n",
        "\n",
        "\n",
        "net = nn.Sequential(\n",
        "    # Conv2D layer: 2 filters, 2x2 kernel, input: 1 channel, 28x28\n",
        "    nn.Conv2d(1, 2, kernel_size=2, stride=1, padding=0),\n",
        "\n",
        "    # Leaky Integrate-and-Fire neuron (replaces ReLU activation)\n",
        "    snn.Leaky(beta=beta, spike_grad=spike_grad, init_hidden=True),\n",
        "\n",
        "    # Flatten layer\n",
        "    nn.Flatten(),\n",
        "\n",
        "    # Dense layer: to 10 output units\n",
        "    nn.Linear(2 * 27 * 27, 10),  # Note: input size calculation changed!\n",
        "\n",
        "    # Output LIF neuron (replaces softmax)\n",
        "    snn.Leaky(beta=beta, spike_grad=spike_grad, init_hidden=True, output=True)\n",
        ").to(device)\n",
        "\n"
      ]
    },
    {
      "cell_type": "markdown",
      "id": "sIrJnBoz490c",
      "metadata": {
        "id": "sIrJnBoz490c"
      },
      "source": [
        "## Define the Forward Pass\n"
      ]
    },
    {
      "cell_type": "code",
      "execution_count": 10,
      "id": "hWa8f_We4-8z",
      "metadata": {
        "id": "hWa8f_We4-8z"
      },
      "outputs": [],
      "source": [
        "from snntorch import utils\n",
        "\n",
        "def forward_pass(net, data, num_steps):\n",
        "  spk_rec = [] # record spikes over time\n",
        "  utils.reset(net)  # reset/initialize hidden states for all LIF neurons in net\n",
        "\n",
        "  for step in range(num_steps): # loop over time\n",
        "      spk_out, mem_out = net(data) # one time step of the forward-pass\n",
        "      spk_rec.append(spk_out) # record spikes\n",
        "\n",
        "  return torch.stack(spk_rec)"
      ]
    },
    {
      "cell_type": "markdown",
      "id": "9nGhh2_25NU8",
      "metadata": {
        "id": "9nGhh2_25NU8"
      },
      "source": [
        "Define the optimizer and loss function. Here, we use the MSE Count Loss, which counts up the total number of output spikes at the end of the simulation run. The correct class has a target firing rate of 80% of all time steps, and incorrect classes are set to 20%."
      ]
    },
    {
      "cell_type": "code",
      "execution_count": 11,
      "id": "VocYbtD7Vwp7",
      "metadata": {
        "id": "VocYbtD7Vwp7"
      },
      "outputs": [],
      "source": [
        "import snntorch.functional as SF\n",
        "\n",
        "optimizer = torch.optim.Adam(net.parameters(), lr=2e-3, betas=(0.9, 0.999))\n",
        "loss_fn = SF.mse_count_loss(correct_rate=0.8, incorrect_rate=0.2)"
      ]
    },
    {
      "cell_type": "markdown",
      "id": "48_7sIT86iUJ",
      "metadata": {
        "id": "48_7sIT86iUJ"
      },
      "source": [
        "## Training Loop\n",
        "\n",
        "Now for the training loop. The predicted class will be set to the neuron with the highest firing rate, i.e., a rate-coded output. We will just measure accuracy on the training set. This training loop follows the same syntax as with PyTorch."
      ]
    },
    {
      "cell_type": "code",
      "execution_count": 12,
      "id": "kGZf7Hr55psl",
      "metadata": {
        "id": "kGZf7Hr55psl",
        "colab": {
          "base_uri": "https://localhost:8080/"
        },
        "outputId": "fc2d9d21-e0fa-4167-d6c5-b296d12652a5"
      },
      "outputs": [
        {
          "output_type": "stream",
          "name": "stdout",
          "text": [
            "Epoch 0, Iteration 0 \n",
            "Train Loss: 2.45\n",
            "Accuracy: 8.59%\n",
            "\n",
            "Epoch 0, Iteration 25 \n",
            "Train Loss: 0.69\n",
            "Accuracy: 51.56%\n",
            "\n",
            "Epoch 0, Iteration 50 \n",
            "Train Loss: 0.47\n",
            "Accuracy: 76.56%\n",
            "\n",
            "Epoch 0, Iteration 75 \n",
            "Train Loss: 0.40\n",
            "Accuracy: 83.59%\n",
            "\n",
            "Epoch 0, Iteration 100 \n",
            "Train Loss: 0.37\n",
            "Accuracy: 85.16%\n",
            "\n",
            "Epoch 0, Iteration 125 \n",
            "Train Loss: 0.40\n",
            "Accuracy: 82.81%\n",
            "\n",
            "Epoch 0, Iteration 150 \n",
            "Train Loss: 0.36\n",
            "Accuracy: 84.38%\n",
            "\n",
            "Epoch 0, Iteration 175 \n",
            "Train Loss: 0.33\n",
            "Accuracy: 85.94%\n",
            "\n",
            "Epoch 0, Iteration 200 \n",
            "Train Loss: 0.32\n",
            "Accuracy: 87.50%\n",
            "\n",
            "Epoch 0, Iteration 225 \n",
            "Train Loss: 0.33\n",
            "Accuracy: 87.50%\n",
            "\n",
            "Epoch 0, Iteration 250 \n",
            "Train Loss: 0.32\n",
            "Accuracy: 86.72%\n",
            "\n",
            "Epoch 0, Iteration 275 \n",
            "Train Loss: 0.30\n",
            "Accuracy: 92.19%\n",
            "\n",
            "Epoch 0, Iteration 300 \n",
            "Train Loss: 0.40\n",
            "Accuracy: 85.94%\n",
            "\n",
            "Epoch 0, Iteration 325 \n",
            "Train Loss: 0.33\n",
            "Accuracy: 91.41%\n",
            "\n",
            "Epoch 0, Iteration 350 \n",
            "Train Loss: 0.34\n",
            "Accuracy: 87.50%\n",
            "\n",
            "Epoch 0, Iteration 375 \n",
            "Train Loss: 0.31\n",
            "Accuracy: 89.06%\n",
            "\n",
            "Epoch 0, Iteration 400 \n",
            "Train Loss: 0.33\n",
            "Accuracy: 89.06%\n",
            "\n",
            "Epoch 0, Iteration 425 \n",
            "Train Loss: 0.35\n",
            "Accuracy: 87.50%\n",
            "\n",
            "Epoch 0, Iteration 450 \n",
            "Train Loss: 0.32\n",
            "Accuracy: 92.97%\n",
            "\n"
          ]
        }
      ],
      "source": [
        "num_epochs = 1 # run for 1 epoch - each data sample is seen only once\n",
        "num_steps = 25  # run for 25 time steps\n",
        "\n",
        "loss_hist = [] # record loss over iterations\n",
        "acc_hist = [] # record accuracy over iterations\n",
        "\n",
        "# training loop\n",
        "for epoch in range(num_epochs):\n",
        "    for i, (data, targets) in enumerate(iter(train_loader)):\n",
        "        data = data.to(device)\n",
        "        targets = targets.to(device)\n",
        "\n",
        "        net.train()\n",
        "        spk_rec = forward_pass(net, data, num_steps) # forward-pass\n",
        "        loss_val = loss_fn(spk_rec, targets) # loss calculation\n",
        "        optimizer.zero_grad() # null gradients\n",
        "        loss_val.backward() # calculate gradients\n",
        "        optimizer.step() # update weights\n",
        "        loss_hist.append(loss_val.item()) # store loss\n",
        "\n",
        "        # print every 25 iterations\n",
        "        if i % 25 == 0:\n",
        "          print(f\"Epoch {epoch}, Iteration {i} \\nTrain Loss: {loss_val.item():.2f}\")\n",
        "\n",
        "          # check accuracy on a single batch\n",
        "          acc = SF.accuracy_rate(spk_rec, targets)\n",
        "          acc_hist.append(acc)\n",
        "          print(f\"Accuracy: {acc * 100:.2f}%\\n\")\n",
        "\n",
        "        # uncomment for faster termination\n",
        "        # if i == 150:\n",
        "        #     break\n"
      ]
    },
    {
      "cell_type": "markdown",
      "id": "mjOR18HA77gc",
      "metadata": {
        "id": "mjOR18HA77gc"
      },
      "source": [
        "## More control over your model\n",
        "If you are simulating more complex architectures, such as residual nets, then your best bet is to wrap the network up in a class as shown below. This time, we will explicitly use the membrane potential, `mem`, and let `init_hidden` default to false.\n",
        "\n",
        "For the sake of speed, we'll just simulate a fully-connected SNN, but this can be generalized to other network types (e.g., Convs).\n",
        "\n",
        "In addition, let's set the neuron decay rate, `beta`, to be a learnable parameter. The first layer will have a shared decay rate across neurons. Each neuron in the second layer will have an independent decay rate. The decay is clipped between [0,1]."
      ]
    },
    {
      "cell_type": "code",
      "execution_count": 13,
      "id": "7d286ef9-5fe6-4578-a686-91559a1f81d2",
      "metadata": {
        "id": "7d286ef9-5fe6-4578-a686-91559a1f81d2"
      },
      "outputs": [],
      "source": [
        "import torch.nn.functional as F\n",
        "\n",
        "# Define Network\n",
        "class Net(nn.Module):\n",
        "    def __init__(self):\n",
        "        super().__init__()\n",
        "\n",
        "        num_inputs = 784 # number of inputs\n",
        "        num_hidden = 300 # number of hidden neurons\n",
        "        num_outputs = 10 # number of classes (i.e., output neurons)\n",
        "\n",
        "        beta1 = 0.9 # global decay rate for all leaky neurons in layer 1\n",
        "        beta2 = torch.rand((num_outputs), dtype = torch.float) # independent decay rate for each leaky neuron in layer 2: [0, 1)\n",
        "\n",
        "        # Initialize layers\n",
        "        self.fc1 = nn.Linear(num_inputs, num_hidden)\n",
        "        self.lif1 = snn.Leaky(beta=beta1) # not a learnable decay rate\n",
        "        self.fc2 = nn.Linear(num_hidden, num_outputs)\n",
        "        self.lif2 = snn.Leaky(beta=beta2, learn_beta=True) # learnable decay rate\n",
        "\n",
        "    def forward(self, x):\n",
        "        mem1 = self.lif1.init_leaky() # reset/init hidden states at t=0\n",
        "        mem2 = self.lif2.init_leaky() # reset/init hidden states at t=0\n",
        "        spk2_rec = [] # record output spikes\n",
        "        mem2_rec = [] # record output hidden states\n",
        "\n",
        "        for step in range(num_steps): # loop over time\n",
        "            cur1 = self.fc1(x.flatten(1))\n",
        "            spk1, mem1 = self.lif1(cur1, mem1)\n",
        "            cur2 = self.fc2(spk1)\n",
        "            spk2, mem2 = self.lif2(cur2, mem2)\n",
        "\n",
        "            spk2_rec.append(spk2) # record spikes\n",
        "            mem2_rec.append(mem2) # record membrane\n",
        "\n",
        "        return torch.stack(spk2_rec), torch.stack(mem2_rec)\n",
        "\n",
        "# Load the network onto CUDA if available\n",
        "net = Net().to(device)"
      ]
    },
    {
      "cell_type": "code",
      "execution_count": 14,
      "id": "_aCrVAh_cyTU",
      "metadata": {
        "id": "_aCrVAh_cyTU",
        "colab": {
          "base_uri": "https://localhost:8080/"
        },
        "outputId": "2858f8dc-1251-48e2-8dba-76e5c3f340cc"
      },
      "outputs": [
        {
          "output_type": "stream",
          "name": "stdout",
          "text": [
            "Epoch 0, Iteration 0 \n",
            "Train Loss: 2.50\n",
            "Accuracy: 13.28%\n",
            "\n",
            "Epoch 0, Iteration 25 \n",
            "Train Loss: 0.56\n",
            "Accuracy: 81.25%\n",
            "\n",
            "Epoch 0, Iteration 50 \n",
            "Train Loss: 0.40\n",
            "Accuracy: 82.03%\n",
            "\n",
            "Epoch 0, Iteration 75 \n",
            "Train Loss: 0.30\n",
            "Accuracy: 89.84%\n",
            "\n",
            "Epoch 0, Iteration 100 \n",
            "Train Loss: 0.23\n",
            "Accuracy: 92.19%\n",
            "\n",
            "Epoch 0, Iteration 125 \n",
            "Train Loss: 0.21\n",
            "Accuracy: 93.75%\n",
            "\n",
            "Epoch 0, Iteration 150 \n",
            "Train Loss: 0.21\n",
            "Accuracy: 89.06%\n",
            "\n",
            "Epoch 0, Iteration 175 \n",
            "Train Loss: 0.18\n",
            "Accuracy: 90.62%\n",
            "\n",
            "Epoch 0, Iteration 200 \n",
            "Train Loss: 0.18\n",
            "Accuracy: 91.41%\n",
            "\n",
            "Epoch 0, Iteration 225 \n",
            "Train Loss: 0.17\n",
            "Accuracy: 93.75%\n",
            "\n",
            "Epoch 0, Iteration 250 \n",
            "Train Loss: 0.16\n",
            "Accuracy: 95.31%\n",
            "\n",
            "Epoch 0, Iteration 275 \n",
            "Train Loss: 0.16\n",
            "Accuracy: 92.97%\n",
            "\n",
            "Epoch 0, Iteration 300 \n",
            "Train Loss: 0.14\n",
            "Accuracy: 93.75%\n",
            "\n",
            "Epoch 0, Iteration 325 \n",
            "Train Loss: 0.15\n",
            "Accuracy: 95.31%\n",
            "\n",
            "Epoch 0, Iteration 350 \n",
            "Train Loss: 0.13\n",
            "Accuracy: 95.31%\n",
            "\n",
            "Epoch 0, Iteration 375 \n",
            "Train Loss: 0.11\n",
            "Accuracy: 96.09%\n",
            "\n",
            "Epoch 0, Iteration 400 \n",
            "Train Loss: 0.13\n",
            "Accuracy: 95.31%\n",
            "\n",
            "Epoch 0, Iteration 425 \n",
            "Train Loss: 0.11\n",
            "Accuracy: 95.31%\n",
            "\n",
            "Epoch 0, Iteration 450 \n",
            "Train Loss: 0.13\n",
            "Accuracy: 94.53%\n",
            "\n"
          ]
        }
      ],
      "source": [
        "optimizer = torch.optim.Adam(net.parameters(), lr=2e-3, betas=(0.9, 0.999))\n",
        "loss_fn = SF.mse_count_loss(correct_rate=0.8, incorrect_rate=0.2)\n",
        "\n",
        "num_epochs = 1 # run for 1 epoch - each data sample is seen only once\n",
        "num_steps = 25  # run for 25 time steps\n",
        "\n",
        "loss_hist = [] # record loss over iterations\n",
        "acc_hist = [] # record accuracy over iterations\n",
        "\n",
        "# training loop\n",
        "for epoch in range(num_epochs):\n",
        "    for i, (data, targets) in enumerate(iter(train_loader)):\n",
        "        data = data.to(device)\n",
        "        targets = targets.to(device)\n",
        "\n",
        "        net.train()\n",
        "        spk_rec, _ = net(data) # forward-pass\n",
        "        loss_val = loss_fn(spk_rec, targets) # loss calculation\n",
        "        optimizer.zero_grad() # null gradients\n",
        "        loss_val.backward() # calculate gradients\n",
        "        optimizer.step() # update weights\n",
        "        loss_hist.append(loss_val.item()) # store loss\n",
        "\n",
        "        # print every 25 iterations\n",
        "        if i % 25 == 0:\n",
        "          net.eval()\n",
        "          print(f\"Epoch {epoch}, Iteration {i} \\nTrain Loss: {loss_val.item():.2f}\")\n",
        "\n",
        "          # check accuracy on a single batch\n",
        "          acc = SF.accuracy_rate(spk_rec, targets)\n",
        "          acc_hist.append(acc)\n",
        "          print(f\"Accuracy: {acc * 100:.2f}%\\n\")\n",
        "\n",
        "        # uncomment for faster termination\n",
        "        # if i == 150:\n",
        "        #     break\n"
      ]
    },
    {
      "cell_type": "code",
      "execution_count": 16,
      "id": "CXCggOzk2vYF",
      "metadata": {
        "id": "CXCggOzk2vYF"
      },
      "outputs": [],
      "source": [
        "# function to measure accuracy on full test set\n",
        "def test_accuracy(data_loader, net, num_steps):\n",
        "  with torch.no_grad():\n",
        "    total = 0\n",
        "    acc = 0\n",
        "    net.eval()\n",
        "\n",
        "    data_loader = iter(data_loader)\n",
        "    for data, targets in data_loader:\n",
        "      data = data.to(device)\n",
        "      targets = targets.to(device)\n",
        "      spk_rec, _ = net(data)\n",
        "\n",
        "      acc += SF.accuracy_rate(spk_rec, targets) * spk_rec.size(1)\n",
        "      total += spk_rec.size(1)\n",
        "\n",
        "  return acc/total"
      ]
    },
    {
      "cell_type": "code",
      "execution_count": 17,
      "id": "ias_TerdCMoG",
      "metadata": {
        "id": "ias_TerdCMoG",
        "colab": {
          "base_uri": "https://localhost:8080/"
        },
        "outputId": "f451b3be-2b38-40db-b7c4-fd0eb5308dce"
      },
      "outputs": [
        {
          "output_type": "stream",
          "name": "stdout",
          "text": [
            "Test set accuracy: 94.890%\n"
          ]
        }
      ],
      "source": [
        "print(f\"Test set accuracy: {test_accuracy(test_loader, net, num_steps)*100:.3f}%\")"
      ]
    }
  ],
  "metadata": {
    "accelerator": "GPU",
    "colab": {
      "name": "Copy of tutorial_5_neuromorphic_datasets.ipynb",
      "provenance": [],
      "include_colab_link": true
    },
    "kernelspec": {
      "display_name": "venv",
      "language": "python",
      "name": "python3"
    },
    "language_info": {
      "codemirror_mode": {
        "name": "ipython",
        "version": 3
      },
      "file_extension": ".py",
      "mimetype": "text/x-python",
      "name": "python",
      "nbconvert_exporter": "python",
      "pygments_lexer": "ipython3",
      "version": "3.9.13"
    },
    "vscode": {
      "interpreter": {
        "hash": "c8b87b4648a8d1ba1118329c37c7c28a2ff48490805f0e62ea19d4b1b49e5656"
      }
    }
  },
  "nbformat": 4,
  "nbformat_minor": 5
}